{
  "nbformat": 4,
  "nbformat_minor": 0,
  "metadata": {
    "colab": {
      "name": "Implementação FFT",
      "provenance": [],
      "include_colab_link": true
    },
    "kernelspec": {
      "name": "python3",
      "display_name": "Python 3"
    }
  },
  "cells": [
    {
      "cell_type": "markdown",
      "metadata": {
        "id": "view-in-github",
        "colab_type": "text"
      },
      "source": [
        "<a href=\"https://colab.research.google.com/github/ellenribeirolucena/PDS-FFT/blob/main/Implementa%C3%A7%C3%A3o_FFT.ipynb\" target=\"_parent\"><img src=\"https://colab.research.google.com/assets/colab-badge.svg\" alt=\"Open In Colab\"/></a>"
      ]
    },
    {
      "cell_type": "markdown",
      "metadata": {
        "id": "lXRw_UqVtzVs"
      },
      "source": [
        "Teste 1: entrada 11111111 | saída esperada: 00000000\n",
        "\n",
        "Teste 2: entrada 10000000 | saída esperada: 11111111"
      ]
    },
    {
      "cell_type": "code",
      "metadata": {
        "id": "ZGqu8xsQpD4y"
      },
      "source": [
        "import numpy as np\n",
        "#PRÉ-DEFINIÇÕES:\n",
        "N = 8                                   # Tamanho da FFT\n",
        "x = [1, 1, 1, 1, 1, 1, 1, 1]#[1,0,0,0,0,0,0,0]#[0,1,0,0,0,0,0,0]                   # Entrada da FFT \n",
        "etapas = np.arange(1,int(np.log2(N))+1) # Etapas necessárias para FFT\n",
        "XM=np.zeros((len(etapas)+1,N))          # Vetor que percorre as etapas da FFT\n",
        "#print(XM)"
      ],
      "execution_count": null,
      "outputs": []
    },
    {
      "cell_type": "code",
      "metadata": {
        "id": "DdA5-UiDvEL_",
        "colab": {
          "base_uri": "https://localhost:8080/"
        },
        "outputId": "282e447d-f4a4-4e98-a3ed-71c3d7936933"
      },
      "source": [
        "# Função que calcula o bit reverso:\n",
        "def revbits(x):\n",
        "    return int(bin(x)[2:].zfill(len(etapas))[::-1], 2)\n",
        "\n",
        "# Definição da sequência do vetor de entradas para FFT:\n",
        "for k in range(N):\n",
        "  XM[0,k] = x[revbits(k)]\n",
        "  #print(revbits(k))\n",
        "print(XM)"
      ],
      "execution_count": null,
      "outputs": [
        {
          "output_type": "stream",
          "text": [
            "[[1. 1. 1. 1. 1. 1. 1. 1.]\n",
            " [0. 0. 0. 0. 0. 0. 0. 0.]\n",
            " [0. 0. 0. 0. 0. 0. 0. 0.]\n",
            " [0. 0. 0. 0. 0. 0. 0. 0.]]\n"
          ],
          "name": "stdout"
        }
      ]
    },
    {
      "cell_type": "code",
      "metadata": {
        "id": "uLlfdi4UwJMy",
        "colab": {
          "base_uri": "https://localhost:8080/"
        },
        "outputId": "3f00cf33-33b0-4d95-8c99-2b64d393ccec"
      },
      "source": [
        "#print('\\n TMP_Entrada = \\n',XM)\n",
        "for m in etapas:\n",
        "  Nk = 2**m                                   # Nk = Tamanho da FFT na etapa m\n",
        "  print('Etapa nº',m,'(',int(N/Nk),'FFTs de N =',Nk,')')\n",
        "  for k in range(int(N/Nk)):                  # N/Nk = Número de FFTs de tamanho Nk realizadas\n",
        "    print(' FFT',k,'da etapa',m,'( N =',Nk,')')\n",
        "    rep = 2**(m-1)                            # rep = Repetições de p para cada FFT\n",
        "    p = k*Nk\n",
        "    for kp in range(rep):\n",
        "      print('   Repetição', kp,'( p =',p,') da FFT',k,'( N =',Nk,')')\n",
        "      q = p+2**(m-1)\n",
        "      m_1 = m-1\n",
        "      print('p = ', p)\n",
        "      print('q = ', q)\n",
        "      r = (N/2)**m     #segundo p.438 do\n",
        "      print('r = ',r)                         \n",
        "      W = np.cos(2*np.pi*r/N) - 1j*np.sin(2*np.pi*r/N)\n",
        "      XM[m,p] = XM[m_1,p]+W*XM[m_1,q]\n",
        "      XM[m,q] = XM[m_1,p]-W*XM[m_1,q]\n",
        "      p = p + 1\n",
        "      print('\\n TMP = \\n',XM)\n",
        "print('\\n RESPOSTA = \\n',XM)"
      ],
      "execution_count": null,
      "outputs": [
        {
          "output_type": "stream",
          "text": [
            "Etapa nº 1 ( 4 FFTs de N = 2 )\n",
            " FFT 0 da etapa 1 ( N = 2 )\n",
            "   Repetição 0 ( p = 0 ) da FFT 0 ( N = 2 )\n",
            "p =  0\n",
            "q =  1\n",
            "r =  4.0\n",
            "\n",
            " TMP = \n",
            " [[1. 1. 1. 1. 1. 1. 1. 1.]\n",
            " [0. 2. 0. 0. 0. 0. 0. 0.]\n",
            " [0. 0. 0. 0. 0. 0. 0. 0.]\n",
            " [0. 0. 0. 0. 0. 0. 0. 0.]]\n",
            " FFT 1 da etapa 1 ( N = 2 )\n",
            "   Repetição 0 ( p = 2 ) da FFT 1 ( N = 2 )\n",
            "p =  2\n",
            "q =  3\n",
            "r =  4.0\n",
            "\n",
            " TMP = \n",
            " [[1. 1. 1. 1. 1. 1. 1. 1.]\n",
            " [0. 2. 0. 2. 0. 0. 0. 0.]\n",
            " [0. 0. 0. 0. 0. 0. 0. 0.]\n",
            " [0. 0. 0. 0. 0. 0. 0. 0.]]\n",
            " FFT 2 da etapa 1 ( N = 2 )\n",
            "   Repetição 0 ( p = 4 ) da FFT 2 ( N = 2 )\n",
            "p =  4\n",
            "q =  5\n",
            "r =  4.0\n",
            "\n",
            " TMP = \n",
            " [[1. 1. 1. 1. 1. 1. 1. 1.]\n",
            " [0. 2. 0. 2. 0. 2. 0. 0.]\n",
            " [0. 0. 0. 0. 0. 0. 0. 0.]\n",
            " [0. 0. 0. 0. 0. 0. 0. 0.]]\n",
            " FFT 3 da etapa 1 ( N = 2 )\n",
            "   Repetição 0 ( p = 6 ) da FFT 3 ( N = 2 )\n",
            "p =  6\n",
            "q =  7\n",
            "r =  4.0\n",
            "\n",
            " TMP = \n",
            " [[1. 1. 1. 1. 1. 1. 1. 1.]\n",
            " [0. 2. 0. 2. 0. 2. 0. 2.]\n",
            " [0. 0. 0. 0. 0. 0. 0. 0.]\n",
            " [0. 0. 0. 0. 0. 0. 0. 0.]]\n",
            "Etapa nº 2 ( 2 FFTs de N = 4 )\n",
            " FFT 0 da etapa 2 ( N = 4 )\n",
            "   Repetição 0 ( p = 0 ) da FFT 0 ( N = 4 )\n",
            "p =  0\n",
            "q =  2\n",
            "r =  16.0\n",
            "\n",
            " TMP = \n",
            " [[1. 1. 1. 1. 1. 1. 1. 1.]\n",
            " [0. 2. 0. 2. 0. 2. 0. 2.]\n",
            " [0. 0. 0. 0. 0. 0. 0. 0.]\n",
            " [0. 0. 0. 0. 0. 0. 0. 0.]]\n",
            "   Repetição 1 ( p = 1 ) da FFT 0 ( N = 4 )\n",
            "p =  1\n",
            "q =  3\n",
            "r =  16.0\n",
            "\n",
            " TMP = \n",
            " [[1. 1. 1. 1. 1. 1. 1. 1.]\n",
            " [0. 2. 0. 2. 0. 2. 0. 2.]\n",
            " [0. 4. 0. 0. 0. 0. 0. 0.]\n",
            " [0. 0. 0. 0. 0. 0. 0. 0.]]\n",
            " FFT 1 da etapa 2 ( N = 4 )\n",
            "   Repetição 0 ( p = 4 ) da FFT 1 ( N = 4 )\n",
            "p =  4\n",
            "q =  6\n",
            "r =  16.0\n",
            "\n",
            " TMP = \n",
            " [[1. 1. 1. 1. 1. 1. 1. 1.]\n",
            " [0. 2. 0. 2. 0. 2. 0. 2.]\n",
            " [0. 4. 0. 0. 0. 0. 0. 0.]\n",
            " [0. 0. 0. 0. 0. 0. 0. 0.]]\n",
            "   Repetição 1 ( p = 5 ) da FFT 1 ( N = 4 )\n",
            "p =  5\n",
            "q =  7\n",
            "r =  16.0\n",
            "\n",
            " TMP = \n",
            " [[1. 1. 1. 1. 1. 1. 1. 1.]\n",
            " [0. 2. 0. 2. 0. 2. 0. 2.]\n",
            " [0. 4. 0. 0. 0. 4. 0. 0.]\n",
            " [0. 0. 0. 0. 0. 0. 0. 0.]]\n",
            "Etapa nº 3 ( 1 FFTs de N = 8 )\n",
            " FFT 0 da etapa 3 ( N = 8 )\n",
            "   Repetição 0 ( p = 0 ) da FFT 0 ( N = 8 )\n",
            "p =  0\n",
            "q =  4\n",
            "r =  64.0\n",
            "\n",
            " TMP = \n",
            " [[1. 1. 1. 1. 1. 1. 1. 1.]\n",
            " [0. 2. 0. 2. 0. 2. 0. 2.]\n",
            " [0. 4. 0. 0. 0. 4. 0. 0.]\n",
            " [0. 0. 0. 0. 0. 0. 0. 0.]]\n",
            "   Repetição 1 ( p = 1 ) da FFT 0 ( N = 8 )\n",
            "p =  1\n",
            "q =  5\n",
            "r =  64.0\n",
            "\n",
            " TMP = \n",
            " [[1. 1. 1. 1. 1. 1. 1. 1.]\n",
            " [0. 2. 0. 2. 0. 2. 0. 2.]\n",
            " [0. 4. 0. 0. 0. 4. 0. 0.]\n",
            " [0. 8. 0. 0. 0. 0. 0. 0.]]\n",
            "   Repetição 2 ( p = 2 ) da FFT 0 ( N = 8 )\n",
            "p =  2\n",
            "q =  6\n",
            "r =  64.0\n",
            "\n",
            " TMP = \n",
            " [[1. 1. 1. 1. 1. 1. 1. 1.]\n",
            " [0. 2. 0. 2. 0. 2. 0. 2.]\n",
            " [0. 4. 0. 0. 0. 4. 0. 0.]\n",
            " [0. 8. 0. 0. 0. 0. 0. 0.]]\n",
            "   Repetição 3 ( p = 3 ) da FFT 0 ( N = 8 )\n",
            "p =  3\n",
            "q =  7\n",
            "r =  64.0\n",
            "\n",
            " TMP = \n",
            " [[1. 1. 1. 1. 1. 1. 1. 1.]\n",
            " [0. 2. 0. 2. 0. 2. 0. 2.]\n",
            " [0. 4. 0. 0. 0. 4. 0. 0.]\n",
            " [0. 8. 0. 0. 0. 0. 0. 0.]]\n",
            "\n",
            " RESPOSTA = \n",
            " [[1. 1. 1. 1. 1. 1. 1. 1.]\n",
            " [0. 2. 0. 2. 0. 2. 0. 2.]\n",
            " [0. 4. 0. 0. 0. 4. 0. 0.]\n",
            " [0. 8. 0. 0. 0. 0. 0. 0.]]\n"
          ],
          "name": "stdout"
        },
        {
          "output_type": "stream",
          "text": [
            "/usr/local/lib/python3.6/dist-packages/ipykernel_launcher.py:18: ComplexWarning: Casting complex values to real discards the imaginary part\n",
            "/usr/local/lib/python3.6/dist-packages/ipykernel_launcher.py:19: ComplexWarning: Casting complex values to real discards the imaginary part\n"
          ],
          "name": "stderr"
        }
      ]
    }
  ]
}